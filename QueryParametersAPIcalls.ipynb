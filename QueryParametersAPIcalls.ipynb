{
 "metadata": {
  "language_info": {
   "codemirror_mode": {
    "name": "ipython",
    "version": 3
   },
   "file_extension": ".py",
   "mimetype": "text/x-python",
   "name": "python",
   "nbconvert_exporter": "python",
   "pygments_lexer": "ipython3",
   "version": "3.8.5"
  },
  "orig_nbformat": 2,
  "kernelspec": {
   "name": "python385jvsc74a57bd031f2aee4e71d21fbe5cf8b01ff0e069b9275f58929596ceb00d14d90e3e16cd6",
   "display_name": "Python 3.8.5 64-bit"
  },
  "metadata": {
   "interpreter": {
    "hash": "31f2aee4e71d21fbe5cf8b01ff0e069b9275f58929596ceb00d14d90e3e16cd6"
   }
  }
 },
 "nbformat": 4,
 "nbformat_minor": 2,
 "cells": [
  {
   "cell_type": "code",
   "execution_count": 2,
   "metadata": {},
   "outputs": [],
   "source": [
    "# Step 0: import requests and json\n",
    "import requests\n",
    "import json"
   ]
  },
  {
   "cell_type": "code",
   "execution_count": 3,
   "metadata": {},
   "outputs": [
    {
     "output_type": "stream",
     "name": "stdout",
     "text": [
      "[\n  {\n    \"item_name\": \"Foo\"\n  },\n  {\n    \"item_name\": \"Bar\"\n  },\n  {\n    \"item_name\": \"Baz\"\n  }\n]\n<Response [200]>\nhttp://127.0.0.1:8001/items/?skip=0&limit=10\n"
     ]
    }
   ],
   "source": [
    "# Step 1: see the json response from Step 2 of QueryParameters.ipynb \n",
    "response = requests.get('http://127.0.0.1:8001/items/?skip=0&limit=10') \n",
    "print (json.dumps(response.json(), indent=2, sort_keys=True))\n",
    "print(response)\n",
    "print(response.url)"
   ]
  },
  {
   "cell_type": "code",
   "execution_count": 4,
   "metadata": {},
   "outputs": [
    {
     "output_type": "stream",
     "name": "stdout",
     "text": [
      "{\n  \"item_id\": \"foo\"\n}\n{\n  \"item_id\": \"foo\"\n}\n{\n  \"item_id\": \"foo\"\n}\n{\n  \"item_id\": \"foo\"\n}\n{\n  \"item_id\": \"foo\"\n}\n"
     ]
    }
   ],
   "source": [
    "# Section 2: see the json response from section 2 \n",
    "# Section 2.1 cases\n",
    "#   a. foo, short=1\n",
    "response = requests.get('http://127.0.0.1:8001/items/foo?short=1') \n",
    "print (json.dumps(response.json(), indent=2, sort_keys=True))\n",
    "#   b. foo, short=True\n",
    "response = requests.get('http://127.0.0.1:8001/items/foo?short=True') \n",
    "print (json.dumps(response.json(), indent=2, sort_keys=True))\n",
    "#   c. foo, short=true\n",
    "response = requests.get('http://127.0.0.1:8001/items/foo?short=true') \n",
    "print (json.dumps(response.json(), indent=2, sort_keys=True))\n",
    "#   d. foo, short=on\n",
    "response = requests.get('http://127.0.0.1:8001/items/foo?short=on') \n",
    "print (json.dumps(response.json(), indent=2, sort_keys=True))\n",
    "#   e. foo, short=yes\n",
    "response = requests.get('http://127.0.0.1:8001/items/foo?short=yes') \n",
    "print (json.dumps(response.json(), indent=2, sort_keys=True))"
   ]
  },
  {
   "cell_type": "code",
   "execution_count": null,
   "metadata": {},
   "outputs": [],
   "source": [
    "#"
   ]
  }
 ]
}