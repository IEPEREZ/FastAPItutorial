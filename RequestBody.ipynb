{
 "metadata": {
  "language_info": {
   "codemirror_mode": {
    "name": "ipython",
    "version": 3
   },
   "file_extension": ".py",
   "mimetype": "text/x-python",
   "name": "python",
   "nbconvert_exporter": "python",
   "pygments_lexer": "ipython3",
   "version": "3.8.5"
  },
  "orig_nbformat": 2,
  "kernelspec": {
   "name": "python385jvsc74a57bd031f2aee4e71d21fbe5cf8b01ff0e069b9275f58929596ceb00d14d90e3e16cd6",
   "display_name": "Python 3.8.5 64-bit"
  },
  "metadata": {
   "interpreter": {
    "hash": "31f2aee4e71d21fbe5cf8b01ff0e069b9275f58929596ceb00d14d90e3e16cd6"
   }
  }
 },
 "nbformat": 4,
 "nbformat_minor": 2,
 "cells": [
  {
   "cell_type": "code",
   "execution_count": 11,
   "metadata": {},
   "outputs": [],
   "source": [
    "# Request Body\n",
    "# Section 0: imports\n",
    "# import fast API, optional and uvicorn for using fastAPI\n",
    "from fastapi import FastAPI\n",
    "from typing import Optional\n",
    "# import uvicorn, nest_asyncio to test and run API\n",
    "import uvicorn \n",
    "import nest_asyncio\n",
    "nest_asyncio.apply()\n",
    "\n",
    "from pydantic import BaseModel\n",
    "\n",
    "# what does this class do?\n",
    "# by importing BaseModel idk what in the base model class\n",
    "# idk why despite the vars name, price while type specified are not assigned\n",
    "class Item(BaseModel):\n",
    "    name: str\n",
    "    description: Optional[str] = None\n",
    "    price: float\n",
    "    tax: Optional[float] = None\n",
    "\n",
    "app = FastAPI()\n",
    "\n",
    "#instance = Item()\n",
    "#print(instance)\n"
   ]
  },
  {
   "cell_type": "code",
   "execution_count": 2,
   "metadata": {},
   "outputs": [],
   "source": [
    "# Section 1: Simple Reuest Body Part\n",
    "\n",
    "# Decorate FastAPI instance app with the method post, with str path param \"/items/\"\n",
    "# define the Async function create_item(item: Item), taking param item of type class Item\n",
    "# doesn't do much it returns Item?\n",
    "@app.post(\"/items/\")\n",
    "async def create_item(item: Item):\n",
    "    return item"
   ]
  },
  {
   "cell_type": "code",
   "execution_count": 3,
   "metadata": {},
   "outputs": [
    {
     "output_type": "stream",
     "name": "stderr",
     "text": [
      "INFO:     Started server process [423565]\n",
      "INFO:     Waiting for application startup.\n",
      "INFO:     Application startup complete.\n",
      "INFO:     Uvicorn running on http://localhost:8001 (Press CTRL+C to quit)\n",
      "INFO:     127.0.0.1:60012 - \"GET /docs HTTP/1.1\" 200 OK\n",
      "INFO:     127.0.0.1:60012 - \"GET /openapi.json HTTP/1.1\" 200 OK\n",
      "INFO:     127.0.0.1:60024 - \"POST /items/ HTTP/1.1\" 422 Unprocessable Entity\n",
      "INFO:     127.0.0.1:60026 - \"POST /items/ HTTP/1.1\" 422 Unprocessable Entity\n",
      "INFO:     Shutting down\n",
      "INFO:     Waiting for application shutdown.\n",
      "INFO:     Application shutdown complete.\n",
      "INFO:     Finished server process [423565]\n"
     ]
    }
   ],
   "source": [
    "# lets try to run a server\n",
    "uvicorn.run(app, port=8001, host='localhost')"
   ]
  },
  {
   "cell_type": "code",
   "execution_count": 10,
   "metadata": {},
   "outputs": [
    {
     "output_type": "stream",
     "name": "stderr",
     "text": [
      "INFO:     Started server process [423565]\n",
      "INFO:     Waiting for application startup.\n",
      "INFO:     Application startup complete.\n",
      "INFO:     Uvicorn running on http://localhost:8001 (Press CTRL+C to quit)\n",
      "INFO:     127.0.0.1:60218 - \"GET /docs HTTP/1.1\" 200 OK\n",
      "INFO:     127.0.0.1:60218 - \"GET /openapi.json HTTP/1.1\" 200 OK\n",
      "INFO:     127.0.0.1:60222 - \"POST /items/ HTTP/1.1\" 200 OK\n",
      "INFO:     Shutting down\n",
      "INFO:     Waiting for application shutdown.\n",
      "INFO:     Application shutdown complete.\n",
      "INFO:     Finished server process [423565]\n"
     ]
    }
   ],
   "source": [
    "# this new post decoration can be tried\n",
    "# where the async function create_item \n",
    "# takes a Item object and converts it to a dict\n",
    "# adds the key 'price_with_tax' with value item.price + item.tax\n",
    "@app.post(\"/items/\")\n",
    "async def create_item(item: Item):\n",
    "    item_dict = item.dict()\n",
    "    if item.tax:\n",
    "        price_with_tax = item.price + item.tax\n",
    "        item_dict.update({\"price_with_tax\": price_with_tax})\n",
    "    return item_dict\n",
    "\n",
    "# lets try to run a server\n",
    "uvicorn.run(app, port=8001, host='localhost')"
   ]
  },
  {
   "cell_type": "code",
   "execution_count": 12,
   "metadata": {},
   "outputs": [
    {
     "output_type": "stream",
     "name": "stderr",
     "text": [
      "INFO:     Started server process [423565]\n",
      "INFO:     Waiting for application startup.\n",
      "INFO:     Application startup complete.\n",
      "INFO:     Uvicorn running on http://localhost:8001 (Press CTRL+C to quit)\n",
      "INFO:     127.0.0.1:60364 - \"GET /docs HTTP/1.1\" 200 OK\n",
      "INFO:     127.0.0.1:60364 - \"GET /openapi.json HTTP/1.1\" 200 OK\n",
      "INFO:     127.0.0.1:60372 - \"PUT /items/1 HTTP/1.1\" 200 OK\n",
      "INFO:     127.0.0.1:60376 - \"PUT /items/12 HTTP/1.1\" 200 OK\n",
      "INFO:     Shutting down\n",
      "INFO:     Waiting for application shutdown.\n",
      "INFO:     Application shutdown complete.\n",
      "INFO:     Finished server process [423565]\n"
     ]
    }
   ],
   "source": [
    "# lets try put requests \n",
    "# understand that put is idempotent,\n",
    "# so it makes sense that unique item_id path parameters\n",
    "# would make sense. the query parameters are item_id int, and Item object\n",
    "# ** unpackable ??????\n",
    "@app.put(\"/items/{item_id}\")\n",
    "async def create_item(item_id: int, item: Item):\n",
    "    return {\"item_id\": item_id, **item.dict()}\n",
    "\n",
    "# lets try to run a server\n",
    "uvicorn.run(app, port=8001, host='localhost')"
   ]
  },
  {
   "cell_type": "code",
   "execution_count": null,
   "metadata": {},
   "outputs": [],
   "source": [
    "# integrating optional query parameters\n",
    "# same unique put method with path param item_id\n",
    "# and then using optional query parameter q,\n",
    "# we can decide whether the json object \"item_id\" with item identification item_id:int has the parameter q added ?\n",
    "@app.put(\"/items/{item_id}\")\n",
    "async def create_item(item_id: int, item: Item, q: Optional[str] = None):\n",
    "    result = {\"item_id\": item_id, **item.dict()}\n",
    "    if q:\n",
    "        result.update({\"q\": q})\n",
    "    return result"
   ]
  }
 ]
}