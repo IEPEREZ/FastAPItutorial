{
 "metadata": {
  "language_info": {
   "codemirror_mode": {
    "name": "ipython",
    "version": 3
   },
   "file_extension": ".py",
   "mimetype": "text/x-python",
   "name": "python",
   "nbconvert_exporter": "python",
   "pygments_lexer": "ipython3",
   "version": "3.8.5"
  },
  "orig_nbformat": 2,
  "kernelspec": {
   "name": "python385jvsc74a57bd031f2aee4e71d21fbe5cf8b01ff0e069b9275f58929596ceb00d14d90e3e16cd6",
   "display_name": "Python 3.8.5 64-bit"
  },
  "metadata": {
   "interpreter": {
    "hash": "31f2aee4e71d21fbe5cf8b01ff0e069b9275f58929596ceb00d14d90e3e16cd6"
   }
  }
 },
 "nbformat": 4,
 "nbformat_minor": 2,
 "cells": [
  {
   "cell_type": "code",
   "execution_count": 2,
   "metadata": {},
   "outputs": [],
   "source": [
    "# Step 0 \n",
    "# imports for fast api query parameters tutorial\n",
    "from fastapi import FastAPI\n",
    "from typing import Optional\n",
    "import uvicorn \n",
    "import nest_asyncio\n",
    "import requests\n",
    "nest_asyncio.apply()\n",
    "\n",
    "app = FastAPI()\n"
   ]
  },
  {
   "cell_type": "code",
   "execution_count": 3,
   "metadata": {},
   "outputs": [],
   "source": [
    "# Section 1.1 initialize a db as list of dict,\n",
    "#         1.2 Decorate the instance of the class app with function get(\"/items/\")\n",
    "#         1.3 define the async function read_item with skip and limit parameters\n",
    "#             that return the items in the db based on what was passed. \n",
    "fake_items_db = [{\"item_name\": \"Foo\"}, {\"item_name\": \"Bar\"}, {\"item_name\": \"Baz\"}]\n",
    "\n",
    "\n",
    "@app.get(\"/items/\")\n",
    "async def read_item(skip: int = 0, limit: int = 10):\n",
    "    return fake_items_db[skip : skip + limit]"
   ]
  },
  {
   "cell_type": "code",
   "execution_count": 3,
   "metadata": {},
   "outputs": [
    {
     "output_type": "stream",
     "name": "stderr",
     "text": [
      "INFO:     Started server process [211335]\n",
      "INFO:     Waiting for application startup.\n",
      "INFO:     Application startup complete.\n",
      "INFO:     Uvicorn running on http://localhost:8001 (Press CTRL+C to quit)\n",
      "INFO:     127.0.0.1:43012 - \"GET /items/?skip=0&limit=10 HTTP/1.1\" 200 OK\n",
      "INFO:     127.0.0.1:43062 - \"GET /items/?skip=0&limit=10 HTTP/1.1\" 200 OK\n",
      "INFO:     127.0.0.1:43076 - \"GET /items/?skip=0&limit=10 HTTP/1.1\" 200 OK\n",
      "INFO:     Shutting down\n",
      "INFO:     Waiting for application shutdown.\n",
      "INFO:     Application shutdown complete.\n",
      "INFO:     Finished server process [211335]\n"
     ]
    }
   ],
   "source": [
    "# Section 1.4 now initialize a localhost server \n",
    "#and call using Step 1 of QueryParametersAPIcall.ipynb \n",
    "uvicorn.run(app, port=8001, host='localhost')\n"
   ]
  },
  {
   "cell_type": "code",
   "execution_count": 5,
   "metadata": {},
   "outputs": [],
   "source": [
    "# Section 2:  Optional Parameters\n",
    "# optional parameters work in the same way as query parameters but,\n",
    "# have a default value of none\n",
    "# if statements take care of the handling for the optional params\n",
    "#\n",
    "#         2.1 Decorate the instance app with .get('/items/{item_id}')\n",
    "#         2.2 define the read_item function with optional parameter, q,\n",
    "#             such that if q:=True the parameter q will be returned.\n",
    "@app.get(\"/items/{item_id}\")\n",
    "async def read_item(item_id: str, q: Optional[str] = None):\n",
    "    if q:\n",
    "        return {\"item_id\": item_id, \"q\": q}\n",
    "    return {\"item_id\": item_id}"
   ]
  },
  {
   "cell_type": "code",
   "execution_count": 6,
   "metadata": {},
   "outputs": [
    {
     "output_type": "stream",
     "name": "stderr",
     "text": [
      "INFO:     Started server process [212398]\n",
      "INFO:     Waiting for application startup.\n",
      "INFO:     Application startup complete.\n",
      "INFO:     Uvicorn running on http://localhost:8001 (Press CTRL+C to quit)\n",
      "INFO:     127.0.0.1:44796 - \"GET /items/?skip=0&limit=10 HTTP/1.1\" 200 OK\n",
      "INFO:     127.0.0.1:44798 - \"GET /items/foo?short=1 HTTP/1.1\" 200 OK\n",
      "INFO:     127.0.0.1:44800 - \"GET /items/foo?short=True HTTP/1.1\" 200 OK\n",
      "INFO:     127.0.0.1:44802 - \"GET /items/foo?short=true HTTP/1.1\" 200 OK\n",
      "INFO:     127.0.0.1:44804 - \"GET /items/foo?short=on HTTP/1.1\" 200 OK\n",
      "INFO:     127.0.0.1:44806 - \"GET /items/foo?short=yes HTTP/1.1\" 200 OK\n",
      "INFO:     Shutting down\n",
      "INFO:     Waiting for application shutdown.\n",
      "INFO:     Application shutdown complete.\n",
      "INFO:     Finished server process [212398]\n"
     ]
    }
   ],
   "source": [
    "# Section 2.1 now initialize a localhost server \n",
    "#and call using Step 1 of QueryParametersAPIcall.ipynb \n",
    "uvicorn.run(app, port=8001, host='localhost')"
   ]
  },
  {
   "cell_type": "code",
   "execution_count": 7,
   "metadata": {},
   "outputs": [],
   "source": [
    "# Section 3: Multiple Path and Query Parameters\n",
    "# we can assign a mix of path parameters, with query parameters\n",
    "# in this case we use user_id, item_id as path parameters\n",
    "# as shown in our decorator, \n",
    "@app.get(\"/users/{user_id}/items/{item_id}\")\n",
    "# then we can use query parameters q and short \n",
    "# in our async function below\n",
    "async def read_user_item(\n",
    "    user_id: int, item_id: str, q: Optional[str] = None, short: bool = False\n",
    "):\n",
    "    item = {\"item_id\": item_id, \"owner_id\": user_id}\n",
    "    if q:\n",
    "        item.update({\"q\": q})\n",
    "    if not short:\n",
    "        item.update(\n",
    "            {\"description\": \"This is an amazing item that has a long description\"}\n",
    "        )\n",
    "    return item"
   ]
  },
  {
   "cell_type": "code",
   "execution_count": 8,
   "metadata": {},
   "outputs": [
    {
     "output_type": "stream",
     "name": "stderr",
     "text": [
      "INFO:     Started server process [212398]\n",
      "INFO:     Waiting for application startup.\n",
      "INFO:     Application startup complete.\n",
      "INFO:     Uvicorn running on http://localhost:8001 (Press CTRL+C to quit)\n",
      "INFO:     Shutting down\n",
      "INFO:     Waiting for application shutdown.\n",
      "INFO:     Application shutdown complete.\n",
      "INFO:     Finished server process [212398]\n"
     ]
    }
   ],
   "source": [
    "# Section 3.1 now initialize a localhost server \n",
    "#and call using Step 1 of QueryParametersAPIcall.ipynb \n",
    "uvicorn.run(app, port=8001, host='localhost')"
   ]
  },
  {
   "cell_type": "code",
   "execution_count": 9,
   "metadata": {},
   "outputs": [],
   "source": [
    "# Section 4: Required Quiery Parameters \n",
    "# you can assign required paramters by defining an item\n",
    "# using the required parameters, i guess you'll get\n",
    "# a value error  \n",
    "@app.get(\"/items/{item_id}\")\n",
    "async def read_user_item(item_id: str, needy: str):\n",
    "    item = {\"item_id\": item_id, \"needy\": needy}\n",
    "    return item"
   ]
  }
 ]
}